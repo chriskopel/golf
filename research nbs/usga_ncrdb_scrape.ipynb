{
 "cells": [
  {
   "cell_type": "code",
   "execution_count": 39,
   "metadata": {},
   "outputs": [],
   "source": [
    "import requests\n",
    "from bs4 import BeautifulSoup\n",
    "import pandas as pd"
   ]
  },
  {
   "cell_type": "code",
   "execution_count": 53,
   "metadata": {},
   "outputs": [],
   "source": [
    "base_url = \"https://ncrdb.usga.org/courseTeeInfo?CourseID=\"\n",
    "# all_data = []\n",
    "empty_count = 0\n",
    "current_id = 4"
   ]
  },
  {
   "cell_type": "code",
   "execution_count": 54,
   "metadata": {},
   "outputs": [],
   "source": [
    "## Test with CGC\n",
    "id_cgc = 1899\n",
    "cgc_url = base_url + str(id_cgc)\n",
    "response = requests.get(cgc_url)\n",
    "soup = BeautifulSoup(response.content, 'html.parser')"
   ]
  },
  {
   "cell_type": "code",
   "execution_count": 55,
   "metadata": {},
   "outputs": [],
   "source": [
    "table = soup.find('table',id='gvTee')"
   ]
  },
  {
   "cell_type": "code",
   "execution_count": 56,
   "metadata": {},
   "outputs": [],
   "source": [
    "header_row = table.find('tr', class_='tableRows')"
   ]
  },
  {
   "cell_type": "code",
   "execution_count": 57,
   "metadata": {},
   "outputs": [],
   "source": [
    "headers = [th.get_text(strip=True) for th in header_row.find_all('th')]"
   ]
  },
  {
   "cell_type": "code",
   "execution_count": 58,
   "metadata": {},
   "outputs": [
    {
     "data": {
      "text/plain": [
       "['Tee Name',\n",
       " 'Gender',\n",
       " 'Par',\n",
       " 'Course Rating™',\n",
       " 'Bogey Rating™',\n",
       " 'Slope Rating®',\n",
       " 'RatingF9',\n",
       " 'RatingB9',\n",
       " 'Front (9)',\n",
       " 'Back (9)',\n",
       " 'Bogey Rating (F9)',\n",
       " 'Bogey Rating (B9)',\n",
       " 'Slope (F9)',\n",
       " 'Slope (B9)',\n",
       " 'TeeID',\n",
       " 'Length',\n",
       " '',\n",
       " 'CH']"
      ]
     },
     "execution_count": 58,
     "metadata": {},
     "output_type": "execute_result"
    }
   ],
   "source": [
    "headers"
   ]
  },
  {
   "cell_type": "code",
   "execution_count": 59,
   "metadata": {},
   "outputs": [
    {
     "data": {
      "text/plain": [
       "18"
      ]
     },
     "execution_count": 59,
     "metadata": {},
     "output_type": "execute_result"
    }
   ],
   "source": [
    "len(headers)"
   ]
  },
  {
   "cell_type": "code",
   "execution_count": 22,
   "metadata": {},
   "outputs": [],
   "source": [
    "metadata_table = soup.find('table', id='gvCourseTees')"
   ]
  },
  {
   "cell_type": "code",
   "execution_count": 23,
   "metadata": {},
   "outputs": [],
   "source": [
    "# Extract the values from the table's row\n",
    "course_name = metadata_table.find_all('td')[0].get_text(strip=True).split(\" - \")[0]\n",
    "city = metadata_table.find_all('td')[1].get_text(strip=True)\n",
    "state = metadata_table.find_all('td')[2].get_text(strip=True)"
   ]
  },
  {
   "cell_type": "code",
   "execution_count": 24,
   "metadata": {},
   "outputs": [
    {
     "name": "stdout",
     "output_type": "stream",
     "text": [
      "Course Name: Colorado Golf Club\n",
      "City: Parker\n",
      "State: CO\n"
     ]
    }
   ],
   "source": [
    "print(\"Course Name:\", course_name)\n",
    "print(\"City:\", city)\n",
    "print(\"State:\", state)"
   ]
  },
  {
   "cell_type": "code",
   "execution_count": 25,
   "metadata": {},
   "outputs": [],
   "source": [
    "# Find all rows excluding the header row\n",
    "rows = table.find_all('tr')[1:]  # Skip the header row"
   ]
  },
  {
   "cell_type": "code",
   "execution_count": 26,
   "metadata": {},
   "outputs": [],
   "source": [
    "# Extract data from each row\n",
    "data = []\n",
    "for row in rows:\n",
    "    cells = row.find_all('td')\n",
    "    row_data = [cell.get_text(strip=True) for cell in cells]\n",
    "    data.append(row_data)"
   ]
  },
  {
   "cell_type": "code",
   "execution_count": 27,
   "metadata": {},
   "outputs": [
    {
     "name": "stdout",
     "output_type": "stream",
     "text": [
      "['Championship', 'M', '72', '76.5', '104.8', '152', '38.4', '38.1', '38.4 / 149', '38.1 / 155', '52.2', '52.6', '149', '149', '225891', '7571', '', '']\n",
      "['Champ/Black', 'M', '72', '75.6', '103.7', '151', '37.8', '37.8', '37.8 / 147', '37.8 / 155', '51.5', '52.2', '147', '147', '165159', '7409', '', '']\n",
      "['Black', 'M', '72', '75.1', '103.0', '150', '37.7', '37.4', '37.7 / 147', '37.4 / 153', '51.4', '51.6', '147', '147', '225892', '7300', '', '']\n",
      "['Black/Paintbrush', 'M', '72', '74.0', '101.3', '147', '37.1', '36.9', '37.1 / 145', '36.9 / 149', '50.6', '50.7', '145', '145', '165160', '7095', '', '']\n",
      "['Paintbrush', 'M', '72', '73.1', '99.3', '141', '36.6', '36.5', '36.6 / 139', '36.5 / 143', '49.5', '49.8', '139', '139', '646913', '6925', '', '']\n",
      "['Paintbrush/White', 'M', '72', '70.8', '96.2', '137', '35.5', '35.3', '35.5 / 136', '35.3 / 138', '48.1', '48.1', '136', '136', '646903', '6503', '', '']\n",
      "['White', 'M', '72', '69.9', '94.0', '130', '35.0', '34.9', '35.0 / 135', '34.9 / 125', '47.5', '46.5', '135', '135', '225894', '6228', '', '']\n",
      "['White/Wild', 'M', '72', '66.6', '89.7', '125', '33.7', '32.9', '33.7 / 127', '32.9 / 122', '45.5', '44.2', '127', '127', '717049', '5567', '', '']\n",
      "['Wildflower', 'M', '72', '64.8', '86.9', '119', '32.9', '31.9', '32.9 / 123', '31.9 / 115', '44.3', '42.6', '123', '123', '225963', '5187', '', '']\n",
      "['White', 'F', '72', '75.7', '111.8', '153', '38.5', '37.2', '38.5 / 154', '37.2 / 152', '56.7', '55.1', '154', '154', '646922', '6184', '', '']\n",
      "['Flex', 'F', '72', '72.5', '105.5', '140', '36.9', '35.6', '36.9 / 143', '35.6 / 137', '53.8', '51.7', '143', '143', '646957', '5527', '', '']\n",
      "['Wildflower', 'F', '72', '70.3', '101.4', '132', '35.7', '34.6', '35.7 / 135', '34.6 / 129', '51.6', '49.8', '135', '135', '228067', '5187', '', '']\n"
     ]
    }
   ],
   "source": [
    "# Print extracted data\n",
    "for row in data:\n",
    "    print(row)"
   ]
  },
  {
   "cell_type": "code",
   "execution_count": 14,
   "metadata": {},
   "outputs": [
    {
     "data": {
      "text/html": [
       "<div>\n",
       "<style scoped>\n",
       "    .dataframe tbody tr th:only-of-type {\n",
       "        vertical-align: middle;\n",
       "    }\n",
       "\n",
       "    .dataframe tbody tr th {\n",
       "        vertical-align: top;\n",
       "    }\n",
       "\n",
       "    .dataframe thead th {\n",
       "        text-align: right;\n",
       "    }\n",
       "</style>\n",
       "<table border=\"1\" class=\"dataframe\">\n",
       "  <thead>\n",
       "    <tr style=\"text-align: right;\">\n",
       "      <th></th>\n",
       "      <th>Course Name</th>\n",
       "      <th>City</th>\n",
       "      <th>State</th>\n",
       "      <th>Tee Name</th>\n",
       "      <th>Gender</th>\n",
       "      <th>Par</th>\n",
       "      <th>Course Rating™</th>\n",
       "      <th>Bogey Rating™</th>\n",
       "      <th>Slope Rating®</th>\n",
       "      <th>RatingF9</th>\n",
       "      <th>RatingB9</th>\n",
       "      <th>Front (9)</th>\n",
       "      <th>Back (9)</th>\n",
       "      <th>Bogey Rating (F9)</th>\n",
       "      <th>Bogey Rating (B9)</th>\n",
       "      <th>Slope (F9)</th>\n",
       "      <th>Slope (B9)</th>\n",
       "      <th>TeeID</th>\n",
       "      <th>Length</th>\n",
       "      <th></th>\n",
       "    </tr>\n",
       "  </thead>\n",
       "  <tbody>\n",
       "    <tr>\n",
       "      <th>0</th>\n",
       "      <td>Colorado Golf Club</td>\n",
       "      <td>Parker</td>\n",
       "      <td>CO</td>\n",
       "      <td>Championship</td>\n",
       "      <td>M</td>\n",
       "      <td>72</td>\n",
       "      <td>76.5</td>\n",
       "      <td>104.8</td>\n",
       "      <td>152</td>\n",
       "      <td>38.4</td>\n",
       "      <td>38.1</td>\n",
       "      <td>38.4 / 149</td>\n",
       "      <td>38.1 / 155</td>\n",
       "      <td>52.2</td>\n",
       "      <td>52.6</td>\n",
       "      <td>149</td>\n",
       "      <td>149</td>\n",
       "      <td>225891</td>\n",
       "      <td>7571</td>\n",
       "      <td></td>\n",
       "    </tr>\n",
       "    <tr>\n",
       "      <th>1</th>\n",
       "      <td>Colorado Golf Club</td>\n",
       "      <td>Parker</td>\n",
       "      <td>CO</td>\n",
       "      <td>Champ/Black</td>\n",
       "      <td>M</td>\n",
       "      <td>72</td>\n",
       "      <td>75.6</td>\n",
       "      <td>103.7</td>\n",
       "      <td>151</td>\n",
       "      <td>37.8</td>\n",
       "      <td>37.8</td>\n",
       "      <td>37.8 / 147</td>\n",
       "      <td>37.8 / 155</td>\n",
       "      <td>51.5</td>\n",
       "      <td>52.2</td>\n",
       "      <td>147</td>\n",
       "      <td>147</td>\n",
       "      <td>165159</td>\n",
       "      <td>7409</td>\n",
       "      <td></td>\n",
       "    </tr>\n",
       "    <tr>\n",
       "      <th>2</th>\n",
       "      <td>Colorado Golf Club</td>\n",
       "      <td>Parker</td>\n",
       "      <td>CO</td>\n",
       "      <td>Black</td>\n",
       "      <td>M</td>\n",
       "      <td>72</td>\n",
       "      <td>75.1</td>\n",
       "      <td>103.0</td>\n",
       "      <td>150</td>\n",
       "      <td>37.7</td>\n",
       "      <td>37.4</td>\n",
       "      <td>37.7 / 147</td>\n",
       "      <td>37.4 / 153</td>\n",
       "      <td>51.4</td>\n",
       "      <td>51.6</td>\n",
       "      <td>147</td>\n",
       "      <td>147</td>\n",
       "      <td>225892</td>\n",
       "      <td>7300</td>\n",
       "      <td></td>\n",
       "    </tr>\n",
       "    <tr>\n",
       "      <th>3</th>\n",
       "      <td>Colorado Golf Club</td>\n",
       "      <td>Parker</td>\n",
       "      <td>CO</td>\n",
       "      <td>Black/Paintbrush</td>\n",
       "      <td>M</td>\n",
       "      <td>72</td>\n",
       "      <td>74.0</td>\n",
       "      <td>101.3</td>\n",
       "      <td>147</td>\n",
       "      <td>37.1</td>\n",
       "      <td>36.9</td>\n",
       "      <td>37.1 / 145</td>\n",
       "      <td>36.9 / 149</td>\n",
       "      <td>50.6</td>\n",
       "      <td>50.7</td>\n",
       "      <td>145</td>\n",
       "      <td>145</td>\n",
       "      <td>165160</td>\n",
       "      <td>7095</td>\n",
       "      <td></td>\n",
       "    </tr>\n",
       "    <tr>\n",
       "      <th>4</th>\n",
       "      <td>Colorado Golf Club</td>\n",
       "      <td>Parker</td>\n",
       "      <td>CO</td>\n",
       "      <td>Paintbrush</td>\n",
       "      <td>M</td>\n",
       "      <td>72</td>\n",
       "      <td>73.1</td>\n",
       "      <td>99.3</td>\n",
       "      <td>141</td>\n",
       "      <td>36.6</td>\n",
       "      <td>36.5</td>\n",
       "      <td>36.6 / 139</td>\n",
       "      <td>36.5 / 143</td>\n",
       "      <td>49.5</td>\n",
       "      <td>49.8</td>\n",
       "      <td>139</td>\n",
       "      <td>139</td>\n",
       "      <td>646913</td>\n",
       "      <td>6925</td>\n",
       "      <td></td>\n",
       "    </tr>\n",
       "    <tr>\n",
       "      <th>5</th>\n",
       "      <td>Colorado Golf Club</td>\n",
       "      <td>Parker</td>\n",
       "      <td>CO</td>\n",
       "      <td>Paintbrush/White</td>\n",
       "      <td>M</td>\n",
       "      <td>72</td>\n",
       "      <td>70.8</td>\n",
       "      <td>96.2</td>\n",
       "      <td>137</td>\n",
       "      <td>35.5</td>\n",
       "      <td>35.3</td>\n",
       "      <td>35.5 / 136</td>\n",
       "      <td>35.3 / 138</td>\n",
       "      <td>48.1</td>\n",
       "      <td>48.1</td>\n",
       "      <td>136</td>\n",
       "      <td>136</td>\n",
       "      <td>646903</td>\n",
       "      <td>6503</td>\n",
       "      <td></td>\n",
       "    </tr>\n",
       "    <tr>\n",
       "      <th>6</th>\n",
       "      <td>Colorado Golf Club</td>\n",
       "      <td>Parker</td>\n",
       "      <td>CO</td>\n",
       "      <td>White</td>\n",
       "      <td>M</td>\n",
       "      <td>72</td>\n",
       "      <td>69.9</td>\n",
       "      <td>94.0</td>\n",
       "      <td>130</td>\n",
       "      <td>35.0</td>\n",
       "      <td>34.9</td>\n",
       "      <td>35.0 / 135</td>\n",
       "      <td>34.9 / 125</td>\n",
       "      <td>47.5</td>\n",
       "      <td>46.5</td>\n",
       "      <td>135</td>\n",
       "      <td>135</td>\n",
       "      <td>225894</td>\n",
       "      <td>6228</td>\n",
       "      <td></td>\n",
       "    </tr>\n",
       "    <tr>\n",
       "      <th>7</th>\n",
       "      <td>Colorado Golf Club</td>\n",
       "      <td>Parker</td>\n",
       "      <td>CO</td>\n",
       "      <td>White/Wild</td>\n",
       "      <td>M</td>\n",
       "      <td>72</td>\n",
       "      <td>66.6</td>\n",
       "      <td>89.7</td>\n",
       "      <td>125</td>\n",
       "      <td>33.7</td>\n",
       "      <td>32.9</td>\n",
       "      <td>33.7 / 127</td>\n",
       "      <td>32.9 / 122</td>\n",
       "      <td>45.5</td>\n",
       "      <td>44.2</td>\n",
       "      <td>127</td>\n",
       "      <td>127</td>\n",
       "      <td>717049</td>\n",
       "      <td>5567</td>\n",
       "      <td></td>\n",
       "    </tr>\n",
       "    <tr>\n",
       "      <th>8</th>\n",
       "      <td>Colorado Golf Club</td>\n",
       "      <td>Parker</td>\n",
       "      <td>CO</td>\n",
       "      <td>Wildflower</td>\n",
       "      <td>M</td>\n",
       "      <td>72</td>\n",
       "      <td>64.8</td>\n",
       "      <td>86.9</td>\n",
       "      <td>119</td>\n",
       "      <td>32.9</td>\n",
       "      <td>31.9</td>\n",
       "      <td>32.9 / 123</td>\n",
       "      <td>31.9 / 115</td>\n",
       "      <td>44.3</td>\n",
       "      <td>42.6</td>\n",
       "      <td>123</td>\n",
       "      <td>123</td>\n",
       "      <td>225963</td>\n",
       "      <td>5187</td>\n",
       "      <td></td>\n",
       "    </tr>\n",
       "    <tr>\n",
       "      <th>9</th>\n",
       "      <td>Colorado Golf Club</td>\n",
       "      <td>Parker</td>\n",
       "      <td>CO</td>\n",
       "      <td>White</td>\n",
       "      <td>F</td>\n",
       "      <td>72</td>\n",
       "      <td>75.7</td>\n",
       "      <td>111.8</td>\n",
       "      <td>153</td>\n",
       "      <td>38.5</td>\n",
       "      <td>37.2</td>\n",
       "      <td>38.5 / 154</td>\n",
       "      <td>37.2 / 152</td>\n",
       "      <td>56.7</td>\n",
       "      <td>55.1</td>\n",
       "      <td>154</td>\n",
       "      <td>154</td>\n",
       "      <td>646922</td>\n",
       "      <td>6184</td>\n",
       "      <td></td>\n",
       "    </tr>\n",
       "    <tr>\n",
       "      <th>10</th>\n",
       "      <td>Colorado Golf Club</td>\n",
       "      <td>Parker</td>\n",
       "      <td>CO</td>\n",
       "      <td>Flex</td>\n",
       "      <td>F</td>\n",
       "      <td>72</td>\n",
       "      <td>72.5</td>\n",
       "      <td>105.5</td>\n",
       "      <td>140</td>\n",
       "      <td>36.9</td>\n",
       "      <td>35.6</td>\n",
       "      <td>36.9 / 143</td>\n",
       "      <td>35.6 / 137</td>\n",
       "      <td>53.8</td>\n",
       "      <td>51.7</td>\n",
       "      <td>143</td>\n",
       "      <td>143</td>\n",
       "      <td>646957</td>\n",
       "      <td>5527</td>\n",
       "      <td></td>\n",
       "    </tr>\n",
       "    <tr>\n",
       "      <th>11</th>\n",
       "      <td>Colorado Golf Club</td>\n",
       "      <td>Parker</td>\n",
       "      <td>CO</td>\n",
       "      <td>Wildflower</td>\n",
       "      <td>F</td>\n",
       "      <td>72</td>\n",
       "      <td>70.3</td>\n",
       "      <td>101.4</td>\n",
       "      <td>132</td>\n",
       "      <td>35.7</td>\n",
       "      <td>34.6</td>\n",
       "      <td>35.7 / 135</td>\n",
       "      <td>34.6 / 129</td>\n",
       "      <td>51.6</td>\n",
       "      <td>49.8</td>\n",
       "      <td>135</td>\n",
       "      <td>135</td>\n",
       "      <td>228067</td>\n",
       "      <td>5187</td>\n",
       "      <td></td>\n",
       "    </tr>\n",
       "  </tbody>\n",
       "</table>\n",
       "</div>"
      ],
      "text/plain": [
       "           Course Name    City State          Tee Name Gender Par  \\\n",
       "0   Colorado Golf Club  Parker    CO      Championship      M  72   \n",
       "1   Colorado Golf Club  Parker    CO       Champ/Black      M  72   \n",
       "2   Colorado Golf Club  Parker    CO             Black      M  72   \n",
       "3   Colorado Golf Club  Parker    CO  Black/Paintbrush      M  72   \n",
       "4   Colorado Golf Club  Parker    CO        Paintbrush      M  72   \n",
       "5   Colorado Golf Club  Parker    CO  Paintbrush/White      M  72   \n",
       "6   Colorado Golf Club  Parker    CO             White      M  72   \n",
       "7   Colorado Golf Club  Parker    CO        White/Wild      M  72   \n",
       "8   Colorado Golf Club  Parker    CO        Wildflower      M  72   \n",
       "9   Colorado Golf Club  Parker    CO             White      F  72   \n",
       "10  Colorado Golf Club  Parker    CO              Flex      F  72   \n",
       "11  Colorado Golf Club  Parker    CO        Wildflower      F  72   \n",
       "\n",
       "   Course Rating™ Bogey Rating™ Slope Rating® RatingF9 RatingB9   Front (9)  \\\n",
       "0            76.5         104.8           152     38.4     38.1  38.4 / 149   \n",
       "1            75.6         103.7           151     37.8     37.8  37.8 / 147   \n",
       "2            75.1         103.0           150     37.7     37.4  37.7 / 147   \n",
       "3            74.0         101.3           147     37.1     36.9  37.1 / 145   \n",
       "4            73.1          99.3           141     36.6     36.5  36.6 / 139   \n",
       "5            70.8          96.2           137     35.5     35.3  35.5 / 136   \n",
       "6            69.9          94.0           130     35.0     34.9  35.0 / 135   \n",
       "7            66.6          89.7           125     33.7     32.9  33.7 / 127   \n",
       "8            64.8          86.9           119     32.9     31.9  32.9 / 123   \n",
       "9            75.7         111.8           153     38.5     37.2  38.5 / 154   \n",
       "10           72.5         105.5           140     36.9     35.6  36.9 / 143   \n",
       "11           70.3         101.4           132     35.7     34.6  35.7 / 135   \n",
       "\n",
       "      Back (9) Bogey Rating (F9) Bogey Rating (B9) Slope (F9) Slope (B9)  \\\n",
       "0   38.1 / 155              52.2              52.6        149        149   \n",
       "1   37.8 / 155              51.5              52.2        147        147   \n",
       "2   37.4 / 153              51.4              51.6        147        147   \n",
       "3   36.9 / 149              50.6              50.7        145        145   \n",
       "4   36.5 / 143              49.5              49.8        139        139   \n",
       "5   35.3 / 138              48.1              48.1        136        136   \n",
       "6   34.9 / 125              47.5              46.5        135        135   \n",
       "7   32.9 / 122              45.5              44.2        127        127   \n",
       "8   31.9 / 115              44.3              42.6        123        123   \n",
       "9   37.2 / 152              56.7              55.1        154        154   \n",
       "10  35.6 / 137              53.8              51.7        143        143   \n",
       "11  34.6 / 129              51.6              49.8        135        135   \n",
       "\n",
       "     TeeID Length    \n",
       "0   225891   7571    \n",
       "1   165159   7409    \n",
       "2   225892   7300    \n",
       "3   165160   7095    \n",
       "4   646913   6925    \n",
       "5   646903   6503    \n",
       "6   225894   6228    \n",
       "7   717049   5567    \n",
       "8   225963   5187    \n",
       "9   646922   6184    \n",
       "10  646957   5527    \n",
       "11  228067   5187    "
      ]
     },
     "execution_count": 14,
     "metadata": {},
     "output_type": "execute_result"
    }
   ],
   "source": [
    "# Create DataFrame\n",
    "df = pd.DataFrame(data, columns=headers)\n",
    "df = df.drop(columns='CH')\n",
    "\n",
    "# Add the extracted values as new columns to the beginning of the DataFrame\n",
    "df.insert(0, 'Course Name', course_name)\n",
    "df.insert(1, 'City', city)\n",
    "df.insert(2, 'State', state)\n",
    "\n",
    "df"
   ]
  },
  {
   "cell_type": "code",
   "execution_count": null,
   "metadata": {},
   "outputs": [],
   "source": []
  },
  {
   "cell_type": "code",
   "execution_count": null,
   "metadata": {},
   "outputs": [],
   "source": []
  },
  {
   "cell_type": "code",
   "execution_count": 31,
   "metadata": {},
   "outputs": [],
   "source": [
    "## Test with CGC\n",
    "id_empty = 2\n",
    "empty_url = base_url + str(id_empty)\n",
    "response = requests.get(empty_url)\n",
    "error_soup = BeautifulSoup(response.content, 'html.parser')"
   ]
  },
  {
   "cell_type": "code",
   "execution_count": 32,
   "metadata": {},
   "outputs": [
    {
     "data": {
      "text/plain": [
       "<!DOCTYPE html>\n",
       "\n",
       "<html lang=\"en\">\n",
       "<head>\n",
       "<meta charset=\"utf-8\"/>\n",
       "<meta content=\"width=device-width, initial-scale=1.0\" name=\"viewport\"/>\n",
       "<meta content=\"IE=edge\" http-equiv=\"X-UA-Compatible\"/>\n",
       "<meta content=\"text/html; charset=utf-8\" http-equiv=\"Content-Type\"/>\n",
       "<meta content=\"Search course ratings and slope\" name=\"Description\"/>\n",
       "<meta content=\"United States Golf Association, USGA, Golf, NCRDB, National Course Rating Database, Course Rating Lookup, Online Course Ratings\" name=\"keywords\"/>\n",
       "<title>National Course Rating Database</title>\n",
       "<link href=\"/lib/bootstrap/dist/css/bootstrap.min.css\" rel=\"stylesheet\"/>\n",
       "<script src=\"/lib/jquery/dist/jquery.min.js\"></script>\n",
       "<script src=\"https://www.usga.org/content/usga/home-page.jsonp.js\"></script>\n",
       "<link href=\"/lib/datatables/datatables.min.css\" rel=\"stylesheet\" type=\"text/css\"/>\n",
       "<link href=\"/css/usga_skinned_apps_styles.css\" rel=\"Stylesheet\" type=\"text/css\"/>\n",
       "<link href=\"/css/usga_skinned_apps_media_screens.css\" rel=\"Stylesheet\" type=\"text/css\"/>\n",
       "<link href=\"/css/theme.default.min.css\" rel=\"stylesheet\" type=\"text/css\"/>\n",
       "<link href=\"https://cdnjs.cloudflare.com/ajax/libs/font-awesome/4.7.0/css/font-awesome.min.css\" rel=\"stylesheet\"/>\n",
       "<script src=\"/js/jquery.tablesorter.min.js\"></script>\n",
       "<script src=\"//assets.adobedtm.com/be647daa0868f11f8113c7fb433bafc636024ba2/satelliteLib-83349796437417787abc21e3f4ac547f4e6c55e0.js\"></script>\n",
       "<script type=\"text/javascript\">\n",
       "        $(document).ready(function () {\n",
       "            USGA.addNavigation();\n",
       "        });\n",
       "        $(function () {\n",
       "            console.log(\"in\");\n",
       "            $(\"#gvCourses\").tablesorter();\n",
       "        });\n",
       "\n",
       "\n",
       "    </script>\n",
       "<script type=\"text/javascript\">!function(T,l,y){var S=T.location,k=\"script\",D=\"instrumentationKey\",C=\"ingestionendpoint\",I=\"disableExceptionTracking\",E=\"ai.device.\",b=\"toLowerCase\",w=\"crossOrigin\",N=\"POST\",e=\"appInsightsSDK\",t=y.name||\"appInsights\";(y.name||T[e])&&(T[e]=t);var n=T[t]||function(d){var g=!1,f=!1,m={initialize:!0,queue:[],sv:\"5\",version:2,config:d};function v(e,t){var n={},a=\"Browser\";return n[E+\"id\"]=a[b](),n[E+\"type\"]=a,n[\"ai.operation.name\"]=S&&S.pathname||\"_unknown_\",n[\"ai.internal.sdkVersion\"]=\"javascript:snippet_\"+(m.sv||m.version),{time:function(){var e=new Date;function t(e){var t=\"\"+e;return 1===t.length&&(t=\"0\"+t),t}return e.getUTCFullYear()+\"-\"+t(1+e.getUTCMonth())+\"-\"+t(e.getUTCDate())+\"T\"+t(e.getUTCHours())+\":\"+t(e.getUTCMinutes())+\":\"+t(e.getUTCSeconds())+\".\"+((e.getUTCMilliseconds()/1e3).toFixed(3)+\"\").slice(2,5)+\"Z\"}(),iKey:e,name:\"Microsoft.ApplicationInsights.\"+e.replace(/-/g,\"\")+\".\"+t,sampleRate:100,tags:n,data:{baseData:{ver:2}}}}var h=d.url||y.src;if(h){function a(e){var t,n,a,i,r,o,s,c,u,p,l;g=!0,m.queue=[],f||(f=!0,t=h,s=function(){var e={},t=d.connectionString;if(t)for(var n=t.split(\";\"),a=0;a<n.length;a++){var i=n[a].split(\"=\");2===i.length&&(e[i[0][b]()]=i[1])}if(!e[C]){var r=e.endpointsuffix,o=r?e.location:null;e[C]=\"https://\"+(o?o+\".\":\"\")+\"dc.\"+(r||\"services.visualstudio.com\")}return e}(),c=s[D]||d[D]||\"\",u=s[C],p=u?u+\"/v2/track\":d.endpointUrl,(l=[]).push((n=\"SDK LOAD Failure: Failed to load Application Insights SDK script (See stack for details)\",a=t,i=p,(o=(r=v(c,\"Exception\")).data).baseType=\"ExceptionData\",o.baseData.exceptions=[{typeName:\"SDKLoadFailed\",message:n.replace(/\\./g,\"-\"),hasFullStack:!1,stack:n+\"\\nSnippet failed to load [\"+a+\"] -- Telemetry is disabled\\nHelp Link: https://go.microsoft.com/fwlink/?linkid=2128109\\nHost: \"+(S&&S.pathname||\"_unknown_\")+\"\\nEndpoint: \"+i,parsedStack:[]}],r)),l.push(function(e,t,n,a){var i=v(c,\"Message\"),r=i.data;r.baseType=\"MessageData\";var o=r.baseData;return o.message='AI (Internal): 99 message:\"'+(\"SDK LOAD Failure: Failed to load Application Insights SDK script (See stack for details) (\"+n+\")\").replace(/\\\"/g,\"\")+'\"',o.properties={endpoint:a},i}(0,0,t,p)),function(e,t){if(JSON){var n=T.fetch;if(n&&!y.useXhr)n(t,{method:N,body:JSON.stringify(e),mode:\"cors\"});else if(XMLHttpRequest){var a=new XMLHttpRequest;a.open(N,t),a.setRequestHeader(\"Content-type\",\"application/json\"),a.send(JSON.stringify(e))}}}(l,p))}function i(e,t){f||setTimeout(function(){!t&&m.core||a()},500)}var e=function(){var n=l.createElement(k);n.src=h;var e=y[w];return!e&&\"\"!==e||\"undefined\"==n[w]||(n[w]=e),n.onload=i,n.onerror=a,n.onreadystatechange=function(e,t){\"loaded\"!==n.readyState&&\"complete\"!==n.readyState||i(0,t)},n}();y.ld<0?l.getElementsByTagName(\"head\")[0].appendChild(e):setTimeout(function(){l.getElementsByTagName(k)[0].parentNode.appendChild(e)},y.ld||0)}try{m.cookie=l.cookie}catch(p){}function t(e){for(;e.length;)!function(t){m[t]=function(){var e=arguments;g||m.queue.push(function(){m[t].apply(m,e)})}}(e.pop())}var n=\"track\",r=\"TrackPage\",o=\"TrackEvent\";t([n+\"Event\",n+\"PageView\",n+\"Exception\",n+\"Trace\",n+\"DependencyData\",n+\"Metric\",n+\"PageViewPerformance\",\"start\"+r,\"stop\"+r,\"start\"+o,\"stop\"+o,\"addTelemetryInitializer\",\"setAuthenticatedUserContext\",\"clearAuthenticatedUserContext\",\"flush\"]),m.SeverityLevel={Verbose:0,Information:1,Warning:2,Error:3,Critical:4};var s=(d.extensionConfig||{}).ApplicationInsightsAnalytics||{};if(!0!==d[I]&&!0!==s[I]){var c=\"onerror\";t([\"_\"+c]);var u=T[c];T[c]=function(e,t,n,a,i){var r=u&&u(e,t,n,a,i);return!0!==r&&m[\"_\"+c]({message:e,url:t,lineNumber:n,columnNumber:a,error:i}),r},d.autoExceptionInstrumented=!0}return m}(y.cfg);function a(){y.onInit&&y.onInit(n)}(T[t]=n).queue&&0===n.queue.length?(n.queue.push(a),n.trackPageView({})):a()}(window,document,{\n",
       "src: \"https://js.monitor.azure.com/scripts/b/ai.2.min.js\", // The SDK URL Source\n",
       "crossOrigin: \"anonymous\", \n",
       "cfg: { // Application Insights Configuration\n",
       "    connectionString: 'InstrumentationKey=c8a36188-afa6-4c7e-b149-b1725267d7a6;IngestionEndpoint=https://eastus2-3.in.applicationinsights.azure.com/;LiveEndpoint=https://eastus2.livediagnostics.monitor.azure.com/'\n",
       "}});</script></head>\n",
       "<body>\n",
       "<div b-439pxtwc73=\"\">\n",
       "<main b-439pxtwc73=\"\" role=\"main\">\n",
       "<h2 class=\"text-danger errorHandler\">\n",
       "    An error occurred. If this problem persists, contact USGA Handicap Department.\n",
       "</h2>\n",
       "</main>\n",
       "</div>\n",
       "<script src=\"/lib/jquery/dist/jquery.min.js\"></script>\n",
       "<script src=\"/lib/bootstrap/dist/js/bootstrap.bundle.min.js\"></script>\n",
       "<script src=\"/js/site.js?v=4q1jwFhaPaZgr8WAUSrux6hAuh0XDg9kPS3xIVq36I0\"></script>\n",
       "<script src=\"/lib/datatables/datatables.min.js\" type=\"text/javascript\"></script>\n",
       "</body>\n",
       "</html>"
      ]
     },
     "execution_count": 32,
     "metadata": {},
     "output_type": "execute_result"
    }
   ],
   "source": [
    "error_soup"
   ]
  },
  {
   "cell_type": "code",
   "execution_count": 33,
   "metadata": {},
   "outputs": [],
   "source": [
    "# Initialize the flag variable\n",
    "error_flag = 0"
   ]
  },
  {
   "cell_type": "code",
   "execution_count": 34,
   "metadata": {},
   "outputs": [],
   "source": [
    "# Check for the specific error message\n",
    "error_message = soup.find('h2', class_='text-danger errorHandler')\n",
    "if error_message and \"An error occurred. If this problem persists, contact USGA Handicap Department.\" in error_message.get_text():\n",
    "    error_flag = 1"
   ]
  },
  {
   "cell_type": "code",
   "execution_count": 35,
   "metadata": {},
   "outputs": [
    {
     "name": "stdout",
     "output_type": "stream",
     "text": [
      "Error Flag: 1\n"
     ]
    }
   ],
   "source": [
    "# Output the flag variable\n",
    "print(f\"Error Flag: {error_flag}\")"
   ]
  },
  {
   "cell_type": "code",
   "execution_count": null,
   "metadata": {},
   "outputs": [],
   "source": []
  },
  {
   "cell_type": "code",
   "execution_count": 95,
   "metadata": {},
   "outputs": [],
   "source": [
    "## Test with 9 hole\n",
    "id_9 = 566\n",
    "url_9 = base_url + str(id_9)\n",
    "response = requests.get(url_9)\n",
    "soup_9hole = BeautifulSoup(response.content, 'html.parser')"
   ]
  },
  {
   "cell_type": "code",
   "execution_count": 96,
   "metadata": {},
   "outputs": [],
   "source": [
    "metadata_table = soup_9hole.find('table', id='gvCourseTees')"
   ]
  },
  {
   "cell_type": "code",
   "execution_count": 97,
   "metadata": {},
   "outputs": [],
   "source": [
    "# Extract info\n",
    "course_name = metadata_table.find_all('td')[0].get_text(strip=True).split(\" - \")[0]\n",
    "city = metadata_table.find_all('td')[1].get_text(strip=True)\n",
    "state = metadata_table.find_all('td')[2].get_text(strip=True)"
   ]
  },
  {
   "cell_type": "code",
   "execution_count": 98,
   "metadata": {},
   "outputs": [],
   "source": [
    "## Course data\n",
    "table = soup_9hole.find('table',id='gvTee')"
   ]
  },
  {
   "cell_type": "code",
   "execution_count": 99,
   "metadata": {},
   "outputs": [],
   "source": [
    "# Header info\n",
    "header_row = table.find('tr', class_='tableRows')\n",
    "headers = [th.get_text(strip=True) for th in header_row.find_all('th')]"
   ]
  },
  {
   "cell_type": "code",
   "execution_count": 100,
   "metadata": {},
   "outputs": [
    {
     "data": {
      "text/plain": [
       "['Tee Name',\n",
       " 'Gender',\n",
       " 'Par',\n",
       " 'Course Rating™',\n",
       " 'Bogey Rating™',\n",
       " 'Slope Rating®',\n",
       " 'RatingF9',\n",
       " 'RatingB9',\n",
       " 'Front (9)',\n",
       " 'Back (9)',\n",
       " 'Bogey Rating (F9)',\n",
       " 'Bogey Rating (B9)',\n",
       " 'Slope (F9)',\n",
       " 'Slope (B9)',\n",
       " 'TeeID',\n",
       " 'Length']"
      ]
     },
     "execution_count": 100,
     "metadata": {},
     "output_type": "execute_result"
    }
   ],
   "source": [
    "headers"
   ]
  },
  {
   "cell_type": "code",
   "execution_count": 101,
   "metadata": {},
   "outputs": [
    {
     "data": {
      "text/plain": [
       "16"
      ]
     },
     "execution_count": 101,
     "metadata": {},
     "output_type": "execute_result"
    }
   ],
   "source": [
    "len(headers)"
   ]
  },
  {
   "cell_type": "code",
   "execution_count": 102,
   "metadata": {},
   "outputs": [],
   "source": [
    "# Course info\n",
    "rows = table.find_all('tr')[1:]  # Skip the header row"
   ]
  },
  {
   "cell_type": "code",
   "execution_count": null,
   "metadata": {},
   "outputs": [],
   "source": []
  },
  {
   "cell_type": "code",
   "execution_count": 89,
   "metadata": {},
   "outputs": [],
   "source": [
    "# Extract data from each row\n",
    "data = []\n",
    "for row in rows:\n",
    "    cells = row.find_all('td')\n",
    "    row_data = [cell.get_text(strip=True) for cell in cells]\n",
    "    data.append(row_data)"
   ]
  },
  {
   "cell_type": "code",
   "execution_count": 90,
   "metadata": {},
   "outputs": [
    {
     "data": {
      "text/plain": [
       "['Blue',\n",
       " 'M',\n",
       " '34',\n",
       " '33.7',\n",
       " '44.7',\n",
       " '118',\n",
       " '33.7',\n",
       " '',\n",
       " '33.7 / 118',\n",
       " '/',\n",
       " '44.7',\n",
       " '',\n",
       " '118',\n",
       " '118',\n",
       " '742317',\n",
       " '2873',\n",
       " '',\n",
       " '']"
      ]
     },
     "execution_count": 90,
     "metadata": {},
     "output_type": "execute_result"
    }
   ],
   "source": [
    "data[0]"
   ]
  },
  {
   "cell_type": "code",
   "execution_count": 91,
   "metadata": {},
   "outputs": [
    {
     "data": {
      "text/plain": [
       "18"
      ]
     },
     "execution_count": 91,
     "metadata": {},
     "output_type": "execute_result"
    }
   ],
   "source": [
    "len(data[0])"
   ]
  },
  {
   "cell_type": "code",
   "execution_count": null,
   "metadata": {},
   "outputs": [],
   "source": []
  },
  {
   "cell_type": "code",
   "execution_count": 117,
   "metadata": {},
   "outputs": [
    {
     "data": {
      "text/plain": [
       "[['Blue',\n",
       "  'M',\n",
       "  '34',\n",
       "  '33.7',\n",
       "  '44.7',\n",
       "  '118',\n",
       "  '33.7',\n",
       "  '',\n",
       "  '33.7 / 118',\n",
       "  '/',\n",
       "  '44.7',\n",
       "  '',\n",
       "  '118',\n",
       "  '118',\n",
       "  '742317',\n",
       "  '2873',\n",
       "  '',\n",
       "  ''],\n",
       " ['Red',\n",
       "  'M',\n",
       "  '34',\n",
       "  '32.4',\n",
       "  '42.8',\n",
       "  '112',\n",
       "  '32.4',\n",
       "  '',\n",
       "  '32.4 / 112',\n",
       "  '/',\n",
       "  '42.8',\n",
       "  '',\n",
       "  '112',\n",
       "  '112',\n",
       "  '742321',\n",
       "  '2570',\n",
       "  '',\n",
       "  ''],\n",
       " ['Blue',\n",
       "  'F',\n",
       "  '34',\n",
       "  '36.4',\n",
       "  '50.4',\n",
       "  '119',\n",
       "  '36.4',\n",
       "  '',\n",
       "  '36.4 / 119',\n",
       "  '/',\n",
       "  '50.4',\n",
       "  '',\n",
       "  '119',\n",
       "  '119',\n",
       "  '742322',\n",
       "  '2873',\n",
       "  '',\n",
       "  ''],\n",
       " ['Red',\n",
       "  'F',\n",
       "  '34',\n",
       "  '34.7',\n",
       "  '47.9',\n",
       "  '112',\n",
       "  '34.7',\n",
       "  '',\n",
       "  '34.7 / 112',\n",
       "  '/',\n",
       "  '47.9',\n",
       "  '',\n",
       "  '112',\n",
       "  '112',\n",
       "  '742319',\n",
       "  '2570',\n",
       "  '',\n",
       "  '']]"
      ]
     },
     "execution_count": 117,
     "metadata": {},
     "output_type": "execute_result"
    }
   ],
   "source": [
    "max_row_data"
   ]
  },
  {
   "cell_type": "code",
   "execution_count": 108,
   "metadata": {},
   "outputs": [],
   "source": [
    "max_row_data = []\n",
    "max_rows = 16  # Set the maximum number of rows to collect\n",
    "row_count = 0  # Initialize a counter for the number of rows\n",
    "\n",
    "for row in rows:\n",
    "    if row_count >= max_rows:\n",
    "        break  # Stop the loop if we've reached the maximum number of rows\n",
    "\n",
    "    cells = row.find_all('td')\n",
    "    row_data = [cell.get_text(strip=True) for cell in cells]\n",
    "    max_row_data.append(row_data)\n",
    "    row_count += 1  # Increment the counter for each row processed"
   ]
  },
  {
   "cell_type": "code",
   "execution_count": 115,
   "metadata": {},
   "outputs": [
    {
     "data": {
      "text/plain": [
       "18"
      ]
     },
     "execution_count": 115,
     "metadata": {},
     "output_type": "execute_result"
    }
   ],
   "source": [
    "len(data[0])"
   ]
  },
  {
   "cell_type": "code",
   "execution_count": 116,
   "metadata": {},
   "outputs": [
    {
     "data": {
      "text/plain": [
       "['Blue',\n",
       " 'M',\n",
       " '34',\n",
       " '33.7',\n",
       " '44.7',\n",
       " '118',\n",
       " '33.7',\n",
       " '',\n",
       " '33.7 / 118',\n",
       " '/',\n",
       " '44.7',\n",
       " '',\n",
       " '118',\n",
       " '118',\n",
       " '742317',\n",
       " '2873',\n",
       " '',\n",
       " '']"
      ]
     },
     "execution_count": 116,
     "metadata": {},
     "output_type": "execute_result"
    }
   ],
   "source": [
    "data[0]"
   ]
  },
  {
   "cell_type": "code",
   "execution_count": null,
   "metadata": {},
   "outputs": [],
   "source": []
  },
  {
   "cell_type": "code",
   "execution_count": 118,
   "metadata": {},
   "outputs": [],
   "source": [
    "# Remove the last two values from each sublist\n",
    "cleaned_data = [sublist[:-2] for sublist in max_row_data]"
   ]
  },
  {
   "cell_type": "code",
   "execution_count": 119,
   "metadata": {},
   "outputs": [
    {
     "data": {
      "text/plain": [
       "16"
      ]
     },
     "execution_count": 119,
     "metadata": {},
     "output_type": "execute_result"
    }
   ],
   "source": [
    "len(cleaned_data[0])"
   ]
  },
  {
   "cell_type": "code",
   "execution_count": null,
   "metadata": {},
   "outputs": [],
   "source": []
  },
  {
   "cell_type": "code",
   "execution_count": 122,
   "metadata": {},
   "outputs": [
    {
     "data": {
      "text/html": [
       "<div>\n",
       "<style scoped>\n",
       "    .dataframe tbody tr th:only-of-type {\n",
       "        vertical-align: middle;\n",
       "    }\n",
       "\n",
       "    .dataframe tbody tr th {\n",
       "        vertical-align: top;\n",
       "    }\n",
       "\n",
       "    .dataframe thead th {\n",
       "        text-align: right;\n",
       "    }\n",
       "</style>\n",
       "<table border=\"1\" class=\"dataframe\">\n",
       "  <thead>\n",
       "    <tr style=\"text-align: right;\">\n",
       "      <th></th>\n",
       "      <th>Tee Name</th>\n",
       "      <th>Gender</th>\n",
       "      <th>Par</th>\n",
       "      <th>Course Rating™</th>\n",
       "      <th>Bogey Rating™</th>\n",
       "      <th>Slope Rating®</th>\n",
       "      <th>RatingF9</th>\n",
       "      <th>RatingB9</th>\n",
       "      <th>Front (9)</th>\n",
       "      <th>Back (9)</th>\n",
       "      <th>Bogey Rating (F9)</th>\n",
       "      <th>Bogey Rating (B9)</th>\n",
       "      <th>Slope (F9)</th>\n",
       "      <th>Slope (B9)</th>\n",
       "      <th>TeeID</th>\n",
       "      <th>Length</th>\n",
       "    </tr>\n",
       "  </thead>\n",
       "  <tbody>\n",
       "    <tr>\n",
       "      <th>0</th>\n",
       "      <td>Blue</td>\n",
       "      <td>M</td>\n",
       "      <td>34</td>\n",
       "      <td>33.7</td>\n",
       "      <td>44.7</td>\n",
       "      <td>118</td>\n",
       "      <td>33.7</td>\n",
       "      <td></td>\n",
       "      <td>33.7 / 118</td>\n",
       "      <td>/</td>\n",
       "      <td>44.7</td>\n",
       "      <td></td>\n",
       "      <td>118</td>\n",
       "      <td>118</td>\n",
       "      <td>742317</td>\n",
       "      <td>2873</td>\n",
       "    </tr>\n",
       "    <tr>\n",
       "      <th>1</th>\n",
       "      <td>Red</td>\n",
       "      <td>M</td>\n",
       "      <td>34</td>\n",
       "      <td>32.4</td>\n",
       "      <td>42.8</td>\n",
       "      <td>112</td>\n",
       "      <td>32.4</td>\n",
       "      <td></td>\n",
       "      <td>32.4 / 112</td>\n",
       "      <td>/</td>\n",
       "      <td>42.8</td>\n",
       "      <td></td>\n",
       "      <td>112</td>\n",
       "      <td>112</td>\n",
       "      <td>742321</td>\n",
       "      <td>2570</td>\n",
       "    </tr>\n",
       "    <tr>\n",
       "      <th>2</th>\n",
       "      <td>Blue</td>\n",
       "      <td>F</td>\n",
       "      <td>34</td>\n",
       "      <td>36.4</td>\n",
       "      <td>50.4</td>\n",
       "      <td>119</td>\n",
       "      <td>36.4</td>\n",
       "      <td></td>\n",
       "      <td>36.4 / 119</td>\n",
       "      <td>/</td>\n",
       "      <td>50.4</td>\n",
       "      <td></td>\n",
       "      <td>119</td>\n",
       "      <td>119</td>\n",
       "      <td>742322</td>\n",
       "      <td>2873</td>\n",
       "    </tr>\n",
       "    <tr>\n",
       "      <th>3</th>\n",
       "      <td>Red</td>\n",
       "      <td>F</td>\n",
       "      <td>34</td>\n",
       "      <td>34.7</td>\n",
       "      <td>47.9</td>\n",
       "      <td>112</td>\n",
       "      <td>34.7</td>\n",
       "      <td></td>\n",
       "      <td>34.7 / 112</td>\n",
       "      <td>/</td>\n",
       "      <td>47.9</td>\n",
       "      <td></td>\n",
       "      <td>112</td>\n",
       "      <td>112</td>\n",
       "      <td>742319</td>\n",
       "      <td>2570</td>\n",
       "    </tr>\n",
       "  </tbody>\n",
       "</table>\n",
       "</div>"
      ],
      "text/plain": [
       "  Tee Name Gender Par Course Rating™ Bogey Rating™ Slope Rating® RatingF9  \\\n",
       "0     Blue      M  34           33.7          44.7           118     33.7   \n",
       "1      Red      M  34           32.4          42.8           112     32.4   \n",
       "2     Blue      F  34           36.4          50.4           119     36.4   \n",
       "3      Red      F  34           34.7          47.9           112     34.7   \n",
       "\n",
       "  RatingB9   Front (9) Back (9) Bogey Rating (F9) Bogey Rating (B9)  \\\n",
       "0           33.7 / 118        /              44.7                     \n",
       "1           32.4 / 112        /              42.8                     \n",
       "2           36.4 / 119        /              50.4                     \n",
       "3           34.7 / 112        /              47.9                     \n",
       "\n",
       "  Slope (F9) Slope (B9)   TeeID Length  \n",
       "0        118        118  742317   2873  \n",
       "1        112        112  742321   2570  \n",
       "2        119        119  742322   2873  \n",
       "3        112        112  742319   2570  "
      ]
     },
     "execution_count": 122,
     "metadata": {},
     "output_type": "execute_result"
    }
   ],
   "source": [
    "## Consolidate all into df\n",
    "df = pd.DataFrame(cleaned_data, columns=headers)\n",
    "# df = df.drop(columns='CH')\n",
    "df"
   ]
  },
  {
   "cell_type": "code",
   "execution_count": null,
   "metadata": {},
   "outputs": [],
   "source": []
  },
  {
   "cell_type": "code",
   "execution_count": 123,
   "metadata": {},
   "outputs": [],
   "source": [
    "# Add the extracted values as new columns to the beginning of the DataFrame\n",
    "df.insert(0, 'Course Name', course_name)\n",
    "df.insert(1, 'City', city)\n",
    "df.insert(2, 'State', state)\n",
    "\n",
    "# Add ts\n",
    "df['usga_course_id'] = id_9\n",
    "df['timestamp'] = pd.Timestamp.now()"
   ]
  },
  {
   "cell_type": "code",
   "execution_count": 124,
   "metadata": {},
   "outputs": [
    {
     "data": {
      "text/html": [
       "<div>\n",
       "<style scoped>\n",
       "    .dataframe tbody tr th:only-of-type {\n",
       "        vertical-align: middle;\n",
       "    }\n",
       "\n",
       "    .dataframe tbody tr th {\n",
       "        vertical-align: top;\n",
       "    }\n",
       "\n",
       "    .dataframe thead th {\n",
       "        text-align: right;\n",
       "    }\n",
       "</style>\n",
       "<table border=\"1\" class=\"dataframe\">\n",
       "  <thead>\n",
       "    <tr style=\"text-align: right;\">\n",
       "      <th></th>\n",
       "      <th>Course Name</th>\n",
       "      <th>City</th>\n",
       "      <th>State</th>\n",
       "      <th>Tee Name</th>\n",
       "      <th>Gender</th>\n",
       "      <th>Par</th>\n",
       "      <th>Course Rating™</th>\n",
       "      <th>Bogey Rating™</th>\n",
       "      <th>Slope Rating®</th>\n",
       "      <th>RatingF9</th>\n",
       "      <th>...</th>\n",
       "      <th>Front (9)</th>\n",
       "      <th>Back (9)</th>\n",
       "      <th>Bogey Rating (F9)</th>\n",
       "      <th>Bogey Rating (B9)</th>\n",
       "      <th>Slope (F9)</th>\n",
       "      <th>Slope (B9)</th>\n",
       "      <th>TeeID</th>\n",
       "      <th>Length</th>\n",
       "      <th>usga_course_id</th>\n",
       "      <th>timestamp</th>\n",
       "    </tr>\n",
       "  </thead>\n",
       "  <tbody>\n",
       "    <tr>\n",
       "      <th>0</th>\n",
       "      <td>Chosen Valley Golf Club</td>\n",
       "      <td>Chatfield</td>\n",
       "      <td>MN</td>\n",
       "      <td>Blue</td>\n",
       "      <td>M</td>\n",
       "      <td>34</td>\n",
       "      <td>33.7</td>\n",
       "      <td>44.7</td>\n",
       "      <td>118</td>\n",
       "      <td>33.7</td>\n",
       "      <td>...</td>\n",
       "      <td>33.7 / 118</td>\n",
       "      <td>/</td>\n",
       "      <td>44.7</td>\n",
       "      <td></td>\n",
       "      <td>118</td>\n",
       "      <td>118</td>\n",
       "      <td>742317</td>\n",
       "      <td>2873</td>\n",
       "      <td>566</td>\n",
       "      <td>2024-08-08 18:33:29.342630</td>\n",
       "    </tr>\n",
       "    <tr>\n",
       "      <th>1</th>\n",
       "      <td>Chosen Valley Golf Club</td>\n",
       "      <td>Chatfield</td>\n",
       "      <td>MN</td>\n",
       "      <td>Red</td>\n",
       "      <td>M</td>\n",
       "      <td>34</td>\n",
       "      <td>32.4</td>\n",
       "      <td>42.8</td>\n",
       "      <td>112</td>\n",
       "      <td>32.4</td>\n",
       "      <td>...</td>\n",
       "      <td>32.4 / 112</td>\n",
       "      <td>/</td>\n",
       "      <td>42.8</td>\n",
       "      <td></td>\n",
       "      <td>112</td>\n",
       "      <td>112</td>\n",
       "      <td>742321</td>\n",
       "      <td>2570</td>\n",
       "      <td>566</td>\n",
       "      <td>2024-08-08 18:33:29.342630</td>\n",
       "    </tr>\n",
       "    <tr>\n",
       "      <th>2</th>\n",
       "      <td>Chosen Valley Golf Club</td>\n",
       "      <td>Chatfield</td>\n",
       "      <td>MN</td>\n",
       "      <td>Blue</td>\n",
       "      <td>F</td>\n",
       "      <td>34</td>\n",
       "      <td>36.4</td>\n",
       "      <td>50.4</td>\n",
       "      <td>119</td>\n",
       "      <td>36.4</td>\n",
       "      <td>...</td>\n",
       "      <td>36.4 / 119</td>\n",
       "      <td>/</td>\n",
       "      <td>50.4</td>\n",
       "      <td></td>\n",
       "      <td>119</td>\n",
       "      <td>119</td>\n",
       "      <td>742322</td>\n",
       "      <td>2873</td>\n",
       "      <td>566</td>\n",
       "      <td>2024-08-08 18:33:29.342630</td>\n",
       "    </tr>\n",
       "    <tr>\n",
       "      <th>3</th>\n",
       "      <td>Chosen Valley Golf Club</td>\n",
       "      <td>Chatfield</td>\n",
       "      <td>MN</td>\n",
       "      <td>Red</td>\n",
       "      <td>F</td>\n",
       "      <td>34</td>\n",
       "      <td>34.7</td>\n",
       "      <td>47.9</td>\n",
       "      <td>112</td>\n",
       "      <td>34.7</td>\n",
       "      <td>...</td>\n",
       "      <td>34.7 / 112</td>\n",
       "      <td>/</td>\n",
       "      <td>47.9</td>\n",
       "      <td></td>\n",
       "      <td>112</td>\n",
       "      <td>112</td>\n",
       "      <td>742319</td>\n",
       "      <td>2570</td>\n",
       "      <td>566</td>\n",
       "      <td>2024-08-08 18:33:29.342630</td>\n",
       "    </tr>\n",
       "  </tbody>\n",
       "</table>\n",
       "<p>4 rows × 21 columns</p>\n",
       "</div>"
      ],
      "text/plain": [
       "               Course Name       City State Tee Name Gender Par  \\\n",
       "0  Chosen Valley Golf Club  Chatfield    MN     Blue      M  34   \n",
       "1  Chosen Valley Golf Club  Chatfield    MN      Red      M  34   \n",
       "2  Chosen Valley Golf Club  Chatfield    MN     Blue      F  34   \n",
       "3  Chosen Valley Golf Club  Chatfield    MN      Red      F  34   \n",
       "\n",
       "  Course Rating™ Bogey Rating™ Slope Rating® RatingF9  ...   Front (9)  \\\n",
       "0           33.7          44.7           118     33.7  ...  33.7 / 118   \n",
       "1           32.4          42.8           112     32.4  ...  32.4 / 112   \n",
       "2           36.4          50.4           119     36.4  ...  36.4 / 119   \n",
       "3           34.7          47.9           112     34.7  ...  34.7 / 112   \n",
       "\n",
       "  Back (9) Bogey Rating (F9) Bogey Rating (B9) Slope (F9) Slope (B9)   TeeID  \\\n",
       "0        /              44.7                          118        118  742317   \n",
       "1        /              42.8                          112        112  742321   \n",
       "2        /              50.4                          119        119  742322   \n",
       "3        /              47.9                          112        112  742319   \n",
       "\n",
       "  Length usga_course_id                  timestamp  \n",
       "0   2873            566 2024-08-08 18:33:29.342630  \n",
       "1   2570            566 2024-08-08 18:33:29.342630  \n",
       "2   2873            566 2024-08-08 18:33:29.342630  \n",
       "3   2570            566 2024-08-08 18:33:29.342630  \n",
       "\n",
       "[4 rows x 21 columns]"
      ]
     },
     "execution_count": 124,
     "metadata": {},
     "output_type": "execute_result"
    }
   ],
   "source": [
    "df"
   ]
  },
  {
   "cell_type": "code",
   "execution_count": 125,
   "metadata": {},
   "outputs": [
    {
     "data": {
      "text/plain": [
       "Index(['Course Name', 'City', 'State', 'Tee Name', 'Gender', 'Par',\n",
       "       'Course Rating™', 'Bogey Rating™', 'Slope Rating®', 'RatingF9',\n",
       "       'RatingB9', 'Front (9)', 'Back (9)', 'Bogey Rating (F9)',\n",
       "       'Bogey Rating (B9)', 'Slope (F9)', 'Slope (B9)', 'TeeID', 'Length',\n",
       "       'usga_course_id', 'timestamp'],\n",
       "      dtype='object')"
      ]
     },
     "execution_count": 125,
     "metadata": {},
     "output_type": "execute_result"
    }
   ],
   "source": [
    "df.columns"
   ]
  },
  {
   "cell_type": "code",
   "execution_count": 69,
   "metadata": {},
   "outputs": [],
   "source": [
    "main_cols = ['Course Name', 'City', 'State', 'Tee Name', 'Gender', 'Par',\n",
    "       'Course Rating™', 'Bogey Rating™', 'Slope Rating®', 'RatingF9',\n",
    "       'RatingB9', 'Front (9)', 'Back (9)', 'Bogey Rating (F9)',\n",
    "       'Bogey Rating (B9)', 'Slope (F9)', 'Slope (B9)', 'TeeID', 'Length',\n",
    "       '', 'usga_course_id', 'timestamp']"
   ]
  },
  {
   "cell_type": "code",
   "execution_count": 70,
   "metadata": {},
   "outputs": [
    {
     "data": {
      "text/plain": [
       "22"
      ]
     },
     "execution_count": 70,
     "metadata": {},
     "output_type": "execute_result"
    }
   ],
   "source": [
    "len(main_cols)"
   ]
  },
  {
   "cell_type": "code",
   "execution_count": null,
   "metadata": {},
   "outputs": [],
   "source": []
  }
 ],
 "metadata": {
  "kernelspec": {
   "display_name": "Python 3",
   "language": "python",
   "name": "python3"
  },
  "language_info": {
   "codemirror_mode": {
    "name": "ipython",
    "version": 3
   },
   "file_extension": ".py",
   "mimetype": "text/x-python",
   "name": "python",
   "nbconvert_exporter": "python",
   "pygments_lexer": "ipython3",
   "version": "3.10.6"
  }
 },
 "nbformat": 4,
 "nbformat_minor": 2
}
