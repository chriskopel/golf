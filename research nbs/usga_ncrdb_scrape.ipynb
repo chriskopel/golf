{
 "cells": [
  {
   "cell_type": "code",
   "execution_count": 1,
   "metadata": {},
   "outputs": [],
   "source": [
    "import requests\n",
    "from bs4 import BeautifulSoup\n",
    "import pandas as pd"
   ]
  },
  {
   "cell_type": "code",
   "execution_count": 2,
   "metadata": {},
   "outputs": [],
   "source": [
    "base_url = \"https://ncrdb.usga.org/courseTeeInfo?CourseID=\"\n",
    "all_data = []\n",
    "empty_count = 0\n",
    "current_id = 4"
   ]
  },
  {
   "cell_type": "code",
   "execution_count": 4,
   "metadata": {},
   "outputs": [],
   "source": [
    "## Test with CGC\n",
    "id_cgc = 1899\n",
    "cgc_url = base_url + str(id_cgc)\n",
    "response = requests.get(cgc_url)\n",
    "soup = BeautifulSoup(response.content, 'html.parser')"
   ]
  },
  {
   "cell_type": "code",
   "execution_count": 14,
   "metadata": {},
   "outputs": [],
   "source": [
    "tables = soup.find_all('table', {'class': 'tableBorderDisplay'})"
   ]
  },
  {
   "cell_type": "code",
   "execution_count": 21,
   "metadata": {},
   "outputs": [
    {
     "name": "stdout",
     "output_type": "stream",
     "text": [
      "Processed ID: 4\n"
     ]
    }
   ],
   "source": [
    "if tables:\n",
    "    empty_count = 0\n",
    "    for table in tables:\n",
    "        rows = table.find_all('tr', class_='tableRows')\n",
    "        for row in rows:#[1:]:  # Skip the header row\n",
    "            cols = row.find_all('td')\n",
    "            if len(cols) >= 6:\n",
    "                data = {\n",
    "                    'ID': current_id,\n",
    "                    'Tee Name': cols[0].text.strip(),\n",
    "                    'Gender': cols[1].text.strip(),\n",
    "                    'Par': cols[2].text.strip(),\n",
    "                    'Course Rating': cols[3].text.strip(),\n",
    "                    'Bogey Rating': cols[4].text.strip(),\n",
    "                    'Slope Rating': cols[5].text.strip(),\n",
    "                    'Front (9)': cols[8].text.strip(),\n",
    "                    'Back (9)': cols[9].text.strip()\n",
    "                }\n",
    "                all_data.append(data)\n",
    "    print(f\"Processed ID: {current_id}\")\n",
    "else:\n",
    "    empty_count += 1\n",
    "    print(f\"No data for ID: {current_id}\")"
   ]
  },
  {
   "cell_type": "code",
   "execution_count": 25,
   "metadata": {},
   "outputs": [
    {
     "ename": "AttributeError",
     "evalue": "ResultSet object has no attribute 'find'. You're probably treating a list of elements like a single element. Did you call find_all() when you meant to call find()?",
     "output_type": "error",
     "traceback": [
      "\u001b[1;31m---------------------------------------------------------------------------\u001b[0m",
      "\u001b[1;31mAttributeError\u001b[0m                            Traceback (most recent call last)",
      "Input \u001b[1;32mIn [25]\u001b[0m, in \u001b[0;36m<cell line: 1>\u001b[1;34m()\u001b[0m\n\u001b[1;32m----> 1\u001b[0m \u001b[43mrows\u001b[49m\u001b[38;5;241;43m.\u001b[39;49m\u001b[43mfind\u001b[49m(\u001b[38;5;124m'\u001b[39m\u001b[38;5;124mtd\u001b[39m\u001b[38;5;124m'\u001b[39m)\n",
      "File \u001b[1;32mc:\\Users\\Owner\\AppData\\Local\\Programs\\Python\\Python310\\lib\\site-packages\\bs4\\element.py:2289\u001b[0m, in \u001b[0;36mResultSet.__getattr__\u001b[1;34m(self, key)\u001b[0m\n\u001b[0;32m   2287\u001b[0m \u001b[38;5;28;01mdef\u001b[39;00m \u001b[38;5;21m__getattr__\u001b[39m(\u001b[38;5;28mself\u001b[39m, key):\n\u001b[0;32m   2288\u001b[0m     \u001b[38;5;124;03m\"\"\"Raise a helpful exception to explain a common code fix.\"\"\"\u001b[39;00m\n\u001b[1;32m-> 2289\u001b[0m     \u001b[38;5;28;01mraise\u001b[39;00m \u001b[38;5;167;01mAttributeError\u001b[39;00m(\n\u001b[0;32m   2290\u001b[0m         \u001b[38;5;124m\"\u001b[39m\u001b[38;5;124mResultSet object has no attribute \u001b[39m\u001b[38;5;124m'\u001b[39m\u001b[38;5;132;01m%s\u001b[39;00m\u001b[38;5;124m'\u001b[39m\u001b[38;5;124m. You\u001b[39m\u001b[38;5;124m'\u001b[39m\u001b[38;5;124mre probably treating a list of elements like a single element. Did you call find_all() when you meant to call find()?\u001b[39m\u001b[38;5;124m\"\u001b[39m \u001b[38;5;241m%\u001b[39m key\n\u001b[0;32m   2291\u001b[0m     )\n",
      "\u001b[1;31mAttributeError\u001b[0m: ResultSet object has no attribute 'find'. You're probably treating a list of elements like a single element. Did you call find_all() when you meant to call find()?"
     ]
    }
   ],
   "source": [
    "rows.find('td')"
   ]
  },
  {
   "cell_type": "code",
   "execution_count": null,
   "metadata": {},
   "outputs": [],
   "source": []
  },
  {
   "cell_type": "code",
   "execution_count": null,
   "metadata": {},
   "outputs": [],
   "source": [
    "while empty_count < 10:\n",
    "    url = base_url + str(current_id)\n",
    "    response = requests.get(url)\n",
    "    soup = BeautifulSoup(response.content, 'html.parser')\n",
    "\n",
    "    # Find all tables with class 'tableBorderDisplay'\n",
    "    tables = soup.find_all('table', {'class': 'tableBorderDisplay'})\n",
    "    \n",
    "    if tables:\n",
    "        empty_count = 0\n",
    "        for table in tables:\n",
    "            rows = table.find_all('tr', class_='tableRows')\n",
    "            for row in rows[1:]:  # Skip the header row\n",
    "                cols = row.find_all('td')\n",
    "                if len(cols) >= 6:\n",
    "                    data = {\n",
    "                        'ID': current_id,\n",
    "                        'Tee Name': cols[0].text.strip(),\n",
    "                        'Gender': cols[1].text.strip(),\n",
    "                        'Par': cols[2].text.strip(),\n",
    "                        'Course Rating': cols[3].text.strip(),\n",
    "                        'Bogey Rating': cols[4].text.strip(),\n",
    "                        'Slope Rating': cols[5].text.strip(),\n",
    "                        'Front (9)': cols[8].text.strip(),\n",
    "                        'Back (9)': cols[9].text.strip()\n",
    "                    }\n",
    "                    all_data.append(data)\n",
    "        print(f\"Processed ID: {current_id}\")\n",
    "    else:\n",
    "        empty_count += 1\n",
    "        print(f\"No data for ID: {current_id}\")\n",
    "    \n",
    "    current_id += 1\n",
    "\n",
    "# Create a DataFrame from the collected data\n",
    "df = pd.DataFrame(all_data)\n",
    "\n",
    "# Save the data to a CSV file\n",
    "df.to_csv('usga_course_data.csv', index=False)\n",
    "print(\"Data saved to usga_course_data.csv\")"
   ]
  }
 ],
 "metadata": {
  "kernelspec": {
   "display_name": "Python 3",
   "language": "python",
   "name": "python3"
  },
  "language_info": {
   "codemirror_mode": {
    "name": "ipython",
    "version": 3
   },
   "file_extension": ".py",
   "mimetype": "text/x-python",
   "name": "python",
   "nbconvert_exporter": "python",
   "pygments_lexer": "ipython3",
   "version": "3.10.6"
  }
 },
 "nbformat": 4,
 "nbformat_minor": 2
}
