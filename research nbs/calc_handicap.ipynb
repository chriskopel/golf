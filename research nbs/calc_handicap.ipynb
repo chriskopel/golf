{
 "cells": [
  {
   "cell_type": "code",
   "execution_count": 3,
   "metadata": {},
   "outputs": [],
   "source": [
    "import pandas as pd"
   ]
  },
  {
   "cell_type": "code",
   "execution_count": 4,
   "metadata": {},
   "outputs": [],
   "source": [
    "df_gc = pd.read_csv('../data/usga_scrdb_aug_2024.csv')"
   ]
  },
  {
   "cell_type": "markdown",
   "metadata": {},
   "source": [
    "## Calc Score Differentials"
   ]
  },
  {
   "cell_type": "markdown",
   "metadata": {},
   "source": [
    "### One at a time"
   ]
  },
  {
   "cell_type": "code",
   "execution_count": null,
   "metadata": {},
   "outputs": [],
   "source": [
    "def calc_score_diff(adjusted_gross_score, course_rating, slope_rating, pcc=0):\n",
    "    \"\"\"\n",
    "    Calculate the score differential for a round of golf.\n",
    "\n",
    "    Parameters:\n",
    "    adjusted_gross_score (float): The adjusted gross score for the round.\n",
    "    course_rating (float): The course rating.\n",
    "    slope_rating (int): The slope rating.\n",
    "    pcc (int, optional): The Playing Conditions Calculation adjustment. Default is 0.\n",
    "\n",
    "    Returns:\n",
    "    float: The score differential.\n",
    "    \"\"\"\n",
    "    score_differential = (113 / slope_rating) * (adjusted_gross_score - course_rating - pcc)\n",
    "\n",
    "    return score_differential"
   ]
  },
  {
   "cell_type": "code",
   "execution_count": null,
   "metadata": {},
   "outputs": [],
   "source": [
    "# Example usage:\n",
    "adjusted_gross_score = 85\n",
    "course_rating = 72.0\n",
    "slope_rating = 130\n",
    "pcc = 0  # Adjust if there's a PCC adjustment\n",
    "\n",
    "differential = calc_score_diff(adjusted_gross_score, course_rating, slope_rating, pcc)\n",
    "print(f\"Score Differential: {differential:.2f}\")"
   ]
  },
  {
   "cell_type": "markdown",
   "metadata": {},
   "source": [
    "### Multiple at once"
   ]
  },
  {
   "cell_type": "code",
   "execution_count": null,
   "metadata": {},
   "outputs": [],
   "source": [
    "def calc_handicap_index(adjusted_gross_scores, course_ratings, slope_ratings, pcc_adjustments=None):\n",
    "    \"\"\"\n",
    "    Calculate the USGA Handicap Index for a player.\n",
    "\n",
    "    Parameters:\n",
    "    adjusted_gross_scores (list of float): List of adjusted gross scores for each round.\n",
    "    course_ratings (list of float): List of course ratings corresponding to each round.\n",
    "    slope_ratings (list of int): List of slope ratings corresponding to each round.\n",
    "    pcc_adjustments (list of int, optional): List of PCC adjustments for each round. Default is None.\n",
    "\n",
    "    Returns:\n",
    "    float: The player's Handicap Index.\n",
    "    \"\"\"\n",
    "    if pcc_adjustments is None:\n",
    "        pcc_adjustments = [0] * len(adjusted_gross_scores)\n",
    "\n",
    "    score_differentials = []\n",
    "    for i in range(len(adjusted_gross_scores)):\n",
    "        differential = (113 / slope_ratings[i]) * (adjusted_gross_scores[i] - course_ratings[i] - pcc_adjustments[i])\n",
    "        score_differentials.append(differential)\n",
    "\n",
    "    # Sort the score differentials and select the lowest 8 if there are at least 20 rounds\n",
    "    score_differentials.sort()\n",
    "    num_differentials = min(8, len(score_differentials))\n",
    "    best_differentials = score_differentials[:num_differentials]\n",
    "\n",
    "    # Calculate the average of the selected differentials and apply the 0.96 multiplier\n",
    "    if best_differentials:\n",
    "        average_differential = sum(best_differentials) / num_differentials\n",
    "        handicap_index = average_differential * 0.96\n",
    "    else:\n",
    "        handicap_index = None\n",
    "\n",
    "    return handicap_index"
   ]
  },
  {
   "cell_type": "code",
   "execution_count": null,
   "metadata": {},
   "outputs": [],
   "source": [
    "# Example usage:\n",
    "adjusted_gross_scores = [85, 90, 88, 92, 87, 86, 84, 89, 91, 85]\n",
    "course_ratings = [72.0, 71.5, 72.3, 73.0, 71.8, 72.5, 72.0, 71.9, 72.2, 72.4]\n",
    "slope_ratings = [130, 128, 132, 135, 129, 131, 130, 127, 133, 134]\n",
    "pcc_adjustments = [0, 0, 0, 0, 0, 0, 0, 0, 0, 0]  # Adjust if needed\n",
    "\n",
    "handicap_index = calc_handicap_index(adjusted_gross_scores, course_ratings, slope_ratings, pcc_adjustments)\n",
    "print(f\"Handicap Index: {handicap_index:.2f}\")"
   ]
  },
  {
   "cell_type": "markdown",
   "metadata": {},
   "source": [
    "### Take in Scores, Course info and Return Handicap"
   ]
  },
  {
   "cell_type": "code",
   "execution_count": 17,
   "metadata": {},
   "outputs": [],
   "source": [
    "def calculate_handicap_index_from_courses(df_gc, scores, course_info):\n",
    "    \"\"\"\n",
    "    Calculate the USGA Handicap Index for a player based on course information.\n",
    "\n",
    "    Parameters:\n",
    "    df_gc (pd.DataFrame): DataFrame containing course information.\n",
    "    scores (list of float): List of adjusted gross scores for each round.\n",
    "    course_info (list of tuple): List of tuples containing course name, city, state, tee name, and gender.\n",
    "\n",
    "    Returns:\n",
    "    float: The player's Handicap Index.\n",
    "    \"\"\"\n",
    "    score_differentials = []\n",
    "\n",
    "    for i, (course_name, city, state, tee_name, gender) in enumerate(course_info):\n",
    "        # Look up course rating and slope rating from the DataFrame\n",
    "        course_data = df_gc[(df_gc['Course Name'] == course_name) &\n",
    "                            (df_gc['City'] == city) &\n",
    "                            (df_gc['State'] == state) &\n",
    "                            (df_gc['Tee Name'] == tee_name) &\n",
    "                            (df_gc['Gender'] == gender) &\n",
    "                            (df_gc['Back (9)'] != '/')]\n",
    "\n",
    "        if not course_data.empty:\n",
    "            course_rating = course_data.iloc[0]['Course Rating™']\n",
    "            slope_rating = course_data.iloc[0]['Slope Rating®']\n",
    "\n",
    "            # Calculate score differential\n",
    "            differential = (113 / slope_rating) * (scores[i] - course_rating)\n",
    "            score_differentials.append(differential)\n",
    "        else:\n",
    "            print(f\"Course information not found for: {course_name}, {city}, {state}, {tee_name}\")\n",
    "\n",
    "    # Sort the score differentials and select the lowest 8 if there are at least 20 rounds\n",
    "    score_differentials.sort()\n",
    "    num_differentials = min(8, len(score_differentials))\n",
    "    best_differentials = score_differentials[:num_differentials]\n",
    "\n",
    "    # Calculate the average of the selected differentials and apply the 0.96 multiplier\n",
    "    if best_differentials:\n",
    "        average_differential = sum(best_differentials) / num_differentials\n",
    "        handicap_index = average_differential * 0.96\n",
    "    else:\n",
    "        handicap_index = None\n",
    "\n",
    "    return handicap_index"
   ]
  },
  {
   "cell_type": "code",
   "execution_count": 18,
   "metadata": {},
   "outputs": [
    {
     "name": "stdout",
     "output_type": "stream",
     "text": [
      "Handicap Index: 8.56\n"
     ]
    }
   ],
   "source": [
    "# Example usage:\n",
    "# Assuming df_gc is your DataFrame with course data\n",
    "scores = [85, 90, 88, 92, 87, 86, 84, 89, 91, 85]\n",
    "course_info = [\n",
    "    (\"Colorado Golf Club\", \"Parker\", \"CO\", \"Championship\", \"M\"),\n",
    "    (\"Colorado Golf Club\", \"Parker\", \"CO\", \"Champ/Black\", \"M\"),\n",
    "    (\"Colorado Golf Club\", \"Parker\", \"CO\", \"Black\", \"M\"),\n",
    "    (\"Colorado Golf Club\", \"Parker\", \"CO\", \"Black/Paintbrush\", \"M\"),\n",
    "    (\"Colorado Golf Club\", \"Parker\", \"CO\", \"Paintbrush\", \"M\"),\n",
    "    (\"Colorado Golf Club\", \"Parker\", \"CO\", \"Championship\", \"M\"),\n",
    "    (\"Colorado Golf Club\", \"Parker\", \"CO\", \"Champ/Black\", \"M\"),\n",
    "    (\"Colorado Golf Club\", \"Parker\", \"CO\", \"Black\", \"M\"),\n",
    "    (\"Colorado Golf Club\", \"Parker\", \"CO\", \"Black/Paintbrush\", \"M\"),\n",
    "    (\"Colorado Golf Club\", \"Parker\", \"CO\", \"Paintbrush\", \"M\")\n",
    "]\n",
    "\n",
    "handicap_index = calculate_handicap_index_from_courses(df_gc, scores, course_info)\n",
    "print(f\"Handicap Index: {handicap_index:.2f}\")"
   ]
  },
  {
   "cell_type": "code",
   "execution_count": 23,
   "metadata": {},
   "outputs": [
    {
     "name": "stdout",
     "output_type": "stream",
     "text": [
      "Handicap Index: 18.53\n"
     ]
    }
   ],
   "source": [
    "scores = [100,92,95,100,88,94,86]\n",
    "course_info = [\n",
    "    (\"Bear Creek Golf Club\", \"Denver\", \"CO\", \"Gold\", \"M\"),\n",
    "    (\"Bear Dance Golf Club\", \"Larkspur\", \"CO\", \"Blue/Black\", \"M\"),\n",
    "    (\"Colorado Golf Club\", \"Parker\", \"CO\", \"Paintbrush\", \"M\"),\n",
    "    (\"Colorado Golf Club\", \"Parker\", \"CO\", \"Paintbrush\", \"M\"),\n",
    "    (\"Applewood Golf Course\", \"Golden\", \"CO\", \"White\", \"M\"),\n",
    "    (\"Banff Springs\", \"Banff\", \"AB\", \"Black/White\", \"M\"),\n",
    "    (\"Applewood Golf Course\", \"Golden\", \"CO\", \"Blue\", \"M\")\n",
    "]\n",
    "\n",
    "handicap_index = calculate_handicap_index_from_courses(df_gc, scores, course_info)\n",
    "print(f\"Handicap Index: {handicap_index:.2f}\")"
   ]
  },
  {
   "cell_type": "code",
   "execution_count": null,
   "metadata": {},
   "outputs": [],
   "source": []
  }
 ],
 "metadata": {
  "kernelspec": {
   "display_name": "Python 3",
   "language": "python",
   "name": "python3"
  },
  "language_info": {
   "codemirror_mode": {
    "name": "ipython",
    "version": 3
   },
   "file_extension": ".py",
   "mimetype": "text/x-python",
   "name": "python",
   "nbconvert_exporter": "python",
   "pygments_lexer": "ipython3",
   "version": "3.10.6"
  }
 },
 "nbformat": 4,
 "nbformat_minor": 2
}
